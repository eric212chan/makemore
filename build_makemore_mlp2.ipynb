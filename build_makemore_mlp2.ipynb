{
 "cells": [
  {
   "cell_type": "code",
   "execution_count": null,
   "id": "5ab4ccc0",
   "metadata": {},
   "outputs": [],
   "source": [
    "#1. we want output to have no pre-assumption, ie, not confidently wrong guessing\n",
    "#by setting b2 to 0, W2 to small random values (not to be zero, otherwise it will not learn)\n",
    "#2. avoiding saturation of neuron, h close to zero, (becasue of Tanh function)\n",
    "#by normalizing the linear layer (before Tanh layer) to Guassian\n",
    "#batch normalizaton apply to each batch "
   ]
  },
  {
   "cell_type": "code",
   "execution_count": 472,
   "id": "d84c30ed",
   "metadata": {},
   "outputs": [],
   "source": [
    "import torch\n",
    "import torch.nn.functional as F\n",
    "import matplotlib.pyplot as plt\n",
    "%matplotlib inline"
   ]
  },
  {
   "cell_type": "code",
   "execution_count": 473,
   "id": "b4d20615",
   "metadata": {},
   "outputs": [
    {
     "data": {
      "text/plain": [
       "['emma', 'olivia', 'ava', 'isabella', 'sophia', 'charlotte', 'mia', 'amelia']"
      ]
     },
     "execution_count": 473,
     "metadata": {},
     "output_type": "execute_result"
    }
   ],
   "source": [
    "#read in all the words\n",
    "words = open('names.txt', 'r').read().splitlines()\n",
    "words[:8]"
   ]
  },
  {
   "cell_type": "code",
   "execution_count": 474,
   "id": "cd0fd090",
   "metadata": {},
   "outputs": [
    {
     "data": {
      "text/plain": [
       "32033"
      ]
     },
     "execution_count": 474,
     "metadata": {},
     "output_type": "execute_result"
    }
   ],
   "source": [
    "len(words)"
   ]
  },
  {
   "cell_type": "code",
   "execution_count": 475,
   "id": "e158f1ff",
   "metadata": {},
   "outputs": [
    {
     "name": "stdout",
     "output_type": "stream",
     "text": [
      "{1: 'a', 2: 'b', 3: 'c', 4: 'd', 5: 'e', 6: 'f', 7: 'g', 8: 'h', 9: 'i', 10: 'j', 11: 'k', 12: 'l', 13: 'm', 14: 'n', 15: 'o', 16: 'p', 17: 'q', 18: 'r', 19: 's', 20: 't', 21: 'u', 22: 'v', 23: 'w', 24: 'x', 25: 'y', 26: 'z', 0: '.'}\n",
      "27\n",
      "{'a': 1, 'b': 2, 'c': 3, 'd': 4, 'e': 5, 'f': 6, 'g': 7, 'h': 8, 'i': 9, 'j': 10, 'k': 11, 'l': 12, 'm': 13, 'n': 14, 'o': 15, 'p': 16, 'q': 17, 'r': 18, 's': 19, 't': 20, 'u': 21, 'v': 22, 'w': 23, 'x': 24, 'y': 25, 'z': 26, '.': 0}\n"
     ]
    }
   ],
   "source": [
    "chars = sorted(list(set(''.join(words))))\n",
    "stoi = {s:i+1 for i,s in enumerate(chars)}\n",
    "stoi['.'] = 0\n",
    "itos = {i:s for s,i in stoi.items()}\n",
    "vocab_size = len(itos)\n",
    "print(itos)\n",
    "print(vocab_size)\n",
    "print(stoi)"
   ]
  },
  {
   "cell_type": "code",
   "execution_count": 476,
   "id": "dfc7d695",
   "metadata": {},
   "outputs": [
    {
     "name": "stdout",
     "output_type": "stream",
     "text": [
      "torch.Size([182625, 3]) torch.Size([182625])\n",
      "torch.Size([22655, 3]) torch.Size([22655])\n",
      "torch.Size([22866, 3]) torch.Size([22866])\n"
     ]
    }
   ],
   "source": [
    "#build the dataset\n",
    "block_size = 3\n",
    "\n",
    "def build_dataset(words):\n",
    "    X, Y = [], []\n",
    "    \n",
    "    for w in words:\n",
    "        context = [0] * block_size # [0, 0 ,0]\n",
    "        for ch in w + '.':\n",
    "            ix = stoi[ch]\n",
    "            X.append(context)\n",
    "            Y.append(ix)\n",
    "            context = context[1:] + [ix]\n",
    "\n",
    "    X = torch.tensor(X)\n",
    "    Y = torch.tensor(Y)\n",
    "    print(X.shape, Y.shape)\n",
    "    return X, Y\n",
    "\n",
    "import random\n",
    "random.seed(42)\n",
    "random.shuffle(words)\n",
    "n1 = int(0.8 * len(words))\n",
    "n2 = int(0.9 * len(words))\n",
    "\n",
    "Xtr, Ytr = build_dataset(words[:n1])\n",
    "Xdev, Ydev = build_dataset(words[n1:n2])\n",
    "Xte, Yte = build_dataset(words[n2:])"
   ]
  },
  {
   "cell_type": "code",
   "execution_count": 479,
   "id": "97955020",
   "metadata": {},
   "outputs": [
    {
     "name": "stdout",
     "output_type": "stream",
     "text": [
      "12097\n"
     ]
    }
   ],
   "source": [
    "n_embd = 10 # dims of char embedding vectors\n",
    "n_hidden = 200 #no. of neurons in the hidden layer of MLP\n",
    "#for manually set the initialization parameters: (not BN)\n",
    "#for deeper NN, it is difficult to set the initial weigthing of parameters, we need batchNorm\n",
    "g = torch.Generator().manual_seed(2147483647)\n",
    "C = torch.randn((vocab_size, n_embd),             generator=g)\n",
    "W1 = torch.randn((n_embd * block_size, n_hidden), generator=g) *  (5/3)/((n_embd * block_size)**0.5) # gain of Tahn / sqrt of (out_fan)\n",
    "#b1 = torch.randn(n_hidden,                        generator=g) * 0.01 #*  prevent dead neuron, ie, saturated (h == 1, -1)\n",
    "W2 = torch.randn((n_hidden, vocab_size),          generator=g) * 0.01 #scale down the logits --> 0s  --> initial gess close to \n",
    "b2 = torch.randn(vocab_size,                      generator=g) * 0.0 # we want logits be small initially (prevent confidently wrong)           \n",
    "\n",
    "#we don't want parameters always be Gussian, only want in the initial state, \n",
    "#and let backprop tell us to moving aroung the gussian..., we need following: gain & shift\n",
    "bngain = torch.ones((1, n_hidden)) #gain==1, no effect on initial stage to the distribution\n",
    "bnbias = torch.zeros((1, n_hidden)) #shift==0, no effect on initial stage to the distribution\n",
    "\n",
    "#below mean/std no need for gradient descent learning, it will be update smoothly with torch.no_grac():\n",
    "bnmean_running = torch.zeros((1, n_hidden)) #for on-the-fly calibration, u=0, std=1, ie. normal dist.\n",
    "bnstd_running = torch.ones((1, n_hidden))   #for no-the-fly calibration\n",
    "\n",
    "parameters = [C, W1, W2, b2, bngain, bnbias] #parameters to be learned during backprop\n",
    "print(sum(p.nelement() for p in parameters))\n",
    "\n",
    "for p in parameters:\n",
    "    p.requires_grad = True\n",
    "    \n",
    "#in initialization, we want logits close to 0s, ie., no extreme value, --> confidently wrong initial guess !\n",
    "#if W2 set to exact 0s, then h will became many 1s and -1s, will make the learning in backprop \n",
    "#VERY slow !\n",
    "#BN causes every single sample linked to other samples in the batch mathematically --> regulatorization effect"
   ]
  },
  {
   "cell_type": "code",
   "execution_count": 601,
   "id": "77055af1",
   "metadata": {},
   "outputs": [
    {
     "ename": "TypeError",
     "evalue": "unsupported operand type(s) for *: 'float' and 'NoneType'",
     "output_type": "error",
     "traceback": [
      "\u001b[0;31m---------------------------------------------------------------------------\u001b[0m",
      "\u001b[0;31mTypeError\u001b[0m                                 Traceback (most recent call last)",
      "\u001b[0;32m/var/folders/cb/0qtq30f51d1dth43tgndjdl80000gp/T/ipykernel_35702/514586087.py\u001b[0m in \u001b[0;36m<module>\u001b[0;34m\u001b[0m\n\u001b[1;32m     22\u001b[0m     \u001b[0mlr\u001b[0m \u001b[0;34m=\u001b[0m \u001b[0;36m0.1\u001b[0m \u001b[0;32mif\u001b[0m \u001b[0mi\u001b[0m \u001b[0;34m<\u001b[0m \u001b[0;36m100000\u001b[0m \u001b[0;32melse\u001b[0m \u001b[0;36m0.01\u001b[0m \u001b[0;31m#step learning rate decay\u001b[0m\u001b[0;34m\u001b[0m\u001b[0;34m\u001b[0m\u001b[0m\n\u001b[1;32m     23\u001b[0m     \u001b[0;32mfor\u001b[0m \u001b[0mp\u001b[0m \u001b[0;32min\u001b[0m \u001b[0mparameters\u001b[0m\u001b[0;34m:\u001b[0m\u001b[0;34m\u001b[0m\u001b[0;34m\u001b[0m\u001b[0m\n\u001b[0;32m---> 24\u001b[0;31m         \u001b[0mp\u001b[0m\u001b[0;34m.\u001b[0m\u001b[0mdata\u001b[0m \u001b[0;34m+=\u001b[0m \u001b[0;34m-\u001b[0m\u001b[0mlr\u001b[0m \u001b[0;34m*\u001b[0m \u001b[0mp\u001b[0m\u001b[0;34m.\u001b[0m\u001b[0mgrad\u001b[0m\u001b[0;34m\u001b[0m\u001b[0;34m\u001b[0m\u001b[0m\n\u001b[0m\u001b[1;32m     25\u001b[0m \u001b[0;34m\u001b[0m\u001b[0m\n\u001b[1;32m     26\u001b[0m     \u001b[0;31m#track stats\u001b[0m\u001b[0;34m\u001b[0m\u001b[0;34m\u001b[0m\u001b[0m\n",
      "\u001b[0;31mTypeError\u001b[0m: unsupported operand type(s) for *: 'float' and 'NoneType'"
     ]
    }
   ],
   "source": [
    "max_steps = 200000\n",
    "batch_size = 32\n",
    "lossi = []\n",
    "\n",
    "for i  in range(max_steps):\n",
    "    ix = torch.randint(0, Xtr.shape[0], (batch_size,), generator=g)\n",
    "    Xb, Yb = Xtr[ix], Ytr[ix]\n",
    "    \n",
    "    emb = C[Xb]\n",
    "    embcat = emb.view(emb.shape[0], -1)\n",
    "    hpreact = embcat @ W1  + b1\n",
    "    h = torch.tanh(hpreact)\n",
    "    #we want logits initialized close to zeros  --> initial guess without strong assumption\n",
    "    logits = h @ W2 + b2 # output layer (32, 27) remember 32 is the batch size (m)\n",
    "    loss = F.cross_entropy(logits, Yb) #loss function\n",
    "    \n",
    "    for p in parameters:\n",
    "        p.grad = None     # initializing all grad to zero b4 backward\n",
    "    loss.backward()\n",
    "    \n",
    "    #update\n",
    "    lr = 0.1 if i < 100000 else 0.01 #step learning rate decay\n",
    "    for p in parameters:\n",
    "        p.data += -lr * p.grad\n",
    "    \n",
    "    #track stats\n",
    "    if i % 10000 == 0: #print every once in a while\n",
    "        print(f'{i:7d}/{max_steps:7d}: {loss.item():.4f}')\n",
    "    lossi.append(loss.log10().item())\n",
    "  \n",
    "    \n",
    "   \n",
    "  "
   ]
  },
  {
   "cell_type": "code",
   "execution_count": null,
   "id": "00b0c91c",
   "metadata": {},
   "outputs": [],
   "source": [
    "#initial guess among 27 chars without any assumption\n",
    "-torch.tensor(1/27.0).log()"
   ]
  },
  {
   "cell_type": "code",
   "execution_count": 480,
   "id": "08d625d3",
   "metadata": {},
   "outputs": [
    {
     "name": "stdout",
     "output_type": "stream",
     "text": [
      "      0/ 200000: 3.3239\n"
     ]
    }
   ],
   "source": [
    "max_steps = 200000\n",
    "batch_size = 32\n",
    "lossi = []\n",
    "\n",
    "for i in range(max_steps):\n",
    "    #mini batch , randomly select 32 training data with sample replacement\n",
    "    ix = torch.randint(0, Xtr.shape[0], (batch_size,), generator=g)\n",
    "    Xb, Yb = Xtr[ix], Ytr[ix]\n",
    "    #forward pass\n",
    "    emb = C[Xb] #embed the chars into vectors (32, 3, 10)\n",
    "    embcat = emb.view(emb.shape[0], -1)   #concatenate the vectors (32, 30)\n",
    "    #Linear layer     we don't need b1 here...bias is governed by bnbias\n",
    "    hpreact = embcat @ W1  #+ b1 # hidden layer pre-activation (32, 200), bnbias can replace b1, ie., b1 is redundant\n",
    "    #BatchNorm layer - control the statistic of the layer efficiently\n",
    "    #----------------------------------------------------------------------\n",
    "    bnmeani = hpreact.mean(0, keepdim=True) #(1, 200) mean of currrent batch (32 samples)\n",
    "    bnstdi = hpreact.std(0, keepdim=True)   #(1, 200) std of current batch (32 samples)\n",
    "    \n",
    "    hpreact = bngain * (hpreact - bnmeani) / bnstdi + bnbias #batch normalization    \n",
    "    \n",
    "    #calibration on the fly besides of training , ie., no grad update and no need post training calabration\n",
    "    #smooth update by little bit amount by current batch\n",
    "    with torch.no_grad():\n",
    "        bnmean_running = 0.999 * bnmean_running + 0.001 * bnmeani\n",
    "        bnstd_running = 0.999 * bnstd_running + 0.001 * bnstdi\n",
    "    #----------------------------------------------------------------------\n",
    "    #Non-linear layer\n",
    "    h = torch.tanh(hpreact) #hidden layer (32, 200)\n",
    "    logits = h @ W2 + b2 # output layer (32, 27) remember 32 is the batch size (m)\n",
    "    loss = F.cross_entropy(logits, Yb) #loss function\n",
    "    \n",
    "    #backward pass\n",
    "    for p in parameters:\n",
    "        p.grad = None     # initializing all grad to zero b4 backward\n",
    "    loss.backward()\n",
    "    \n",
    "    #update\n",
    "    lr = 0.1 if i < 100000 else 0.01 #step learning rate decay\n",
    "    for p in parameters:\n",
    "        p.data += -lr * p.grad\n",
    "    \n",
    "    #track stats\n",
    "    if i % 10000 == 0: #print every once in a while\n",
    "        print(f'{i:7d}/{max_steps:7d}: {loss.item():.4f}')\n",
    "    lossi.append(loss.log10().item())\n",
    "\n",
    "    break"
   ]
  },
  {
   "cell_type": "code",
   "execution_count": 449,
   "id": "b5fa450b",
   "metadata": {},
   "outputs": [],
   "source": [
    "#calibrate the batch norm at the end of training\n",
    "#for the purpose for feeding a single sample to give prediction by the normalization of \n",
    "#entired training sample set during testing test, (because batchnorm is normalized by the sample batch\n",
    "#which is NOT suitable for prediction --> normalized by entire training set)\n",
    "#this calibrate can be skip by the calibration on-the-fly method implemented above\n",
    "with torch.no_grad():\n",
    "    #pass the training set through\n",
    "    emb = C[Xtr]\n",
    "    embcat = emb.view(emb.shape[0], -1)\n",
    "    hpreact = embcat @ W1 + b1\n",
    "    #measure the mean/std over the entire training set\n",
    "    bnmean = hpreact.mean(0, keepdim=True)\n",
    "    bnstd = hpreact.std(0, keepdim=True)"
   ]
  },
  {
   "cell_type": "code",
   "execution_count": null,
   "id": "0681d68d",
   "metadata": {},
   "outputs": [],
   "source": [
    "#we can check that bnmean, bnstd roughtly == to bnmean_running, bnstd_running"
   ]
  },
  {
   "cell_type": "code",
   "execution_count": 456,
   "id": "da5c6138",
   "metadata": {},
   "outputs": [
    {
     "name": "stdout",
     "output_type": "stream",
     "text": [
      "train 2.066591739654541\n",
      "val 2.1050572395324707\n"
     ]
    }
   ],
   "source": [
    "#evaluate the model performance on train/val dataset\n",
    "@torch.no_grad() #this decorator disables gradient tracking\n",
    "def split_loss(split):\n",
    "    \n",
    "    x, y = {\n",
    "        'train': (Xtr, Ytr),\n",
    "        'val': (Xdev, Ydev),\n",
    "        'test': (Xte, Yte),\n",
    "    }[split]\n",
    "        \n",
    "    emb = C[x] #(N, block_size, n_embd); here N is batch_size\n",
    "    embcat = emb.view(emb.shape[0], -1) #concat into (N, block_size * n_embd)\n",
    "    hpreact = embcat @ W1 + b1 # hidden layer pre-activation (32, 200)\n",
    "    #hpreact = bngain * (hpreact - hpreact.mean(0, keepdim=True)) / hpreact.std(0, keepdim=True) + bnbias #batch normalization\n",
    "    \n",
    "    hpreact = bngain * (hpreact - bnmean_running) / bnstd_running +bnbias\n",
    "    h = torch.tanh(hpreact) # (N, n_hidden)\n",
    "    logits = h @ W2 + b2 #(N, vocab_size)\n",
    "    loss = F.cross_entropy(logits, y)\n",
    "    print(split, loss.item())\n",
    "    \n",
    "split_loss('train')\n",
    "split_loss('val')\n",
    "    "
   ]
  },
  {
   "cell_type": "code",
   "execution_count": 488,
   "id": "97e2ff37",
   "metadata": {},
   "outputs": [
    {
     "data": {
      "text/plain": [
       "False"
      ]
     },
     "execution_count": 488,
     "metadata": {},
     "output_type": "execute_result"
    }
   ],
   "source": [
    "h.view(-1).tolist() == 1"
   ]
  },
  {
   "cell_type": "code",
   "execution_count": 481,
   "id": "8096420c",
   "metadata": {},
   "outputs": [
    {
     "data": {
      "text/plain": [
       "(array([153., 196., 174., 171., 173., 173., 131., 138., 130., 124., 113.,\n",
       "        140., 124., 113., 109., 120., 120., 104., 123., 105., 105., 104.,\n",
       "         94., 117., 111., 111.,  85.,  88.,  72.,  98.,  94., 127., 105.,\n",
       "         88., 111., 110., 127., 112., 103., 124., 134., 130., 132., 149.,\n",
       "        151., 179., 158., 192., 196., 159.]),\n",
       " array([-9.97799933e-01, -9.57872003e-01, -9.17944074e-01, -8.78016144e-01,\n",
       "        -8.38088214e-01, -7.98160285e-01, -7.58232355e-01, -7.18304425e-01,\n",
       "        -6.78376496e-01, -6.38448566e-01, -5.98520637e-01, -5.58592707e-01,\n",
       "        -5.18664777e-01, -4.78736848e-01, -4.38808918e-01, -3.98880988e-01,\n",
       "        -3.58953059e-01, -3.19025129e-01, -2.79097199e-01, -2.39169270e-01,\n",
       "        -1.99241340e-01, -1.59313411e-01, -1.19385481e-01, -7.94575512e-02,\n",
       "        -3.95296216e-02,  3.98308039e-04,  4.03262377e-02,  8.02541673e-02,\n",
       "         1.20182097e-01,  1.60110027e-01,  2.00037956e-01,  2.39965886e-01,\n",
       "         2.79893816e-01,  3.19821745e-01,  3.59749675e-01,  3.99677604e-01,\n",
       "         4.39605534e-01,  4.79533464e-01,  5.19461393e-01,  5.59389323e-01,\n",
       "         5.99317253e-01,  6.39245182e-01,  6.79173112e-01,  7.19101042e-01,\n",
       "         7.59028971e-01,  7.98956901e-01,  8.38884830e-01,  8.78812760e-01,\n",
       "         9.18740690e-01,  9.58668619e-01,  9.98596549e-01]),\n",
       " <BarContainer object of 50 artists>)"
      ]
     },
     "execution_count": 481,
     "metadata": {},
     "output_type": "execute_result"
    },
    {
     "data": {
      "image/png": "[encoded data removed]",
      "text/plain": [
       "<Figure size 432x288 with 1 Axes>"
      ]
     },
     "metadata": {
      "needs_background": "light"
     },
     "output_type": "display_data"
    }
   ],
   "source": [
    "plt.hist(h.view(-1).tolist(), 50)"
   ]
  },
  {
   "cell_type": "code",
   "execution_count": 482,
   "id": "4623aabf",
   "metadata": {},
   "outputs": [
    {
     "data": {
      "text/plain": [
       "(array([  1.,   1.,   2.,   3.,   4.,  12.,  11.,  22.,  31.,  33.,  52.,\n",
       "         79.,  97., 113., 148., 160., 232., 224., 254., 293., 335., 339.,\n",
       "        368., 358., 360., 313., 327., 337., 275., 282., 237., 217., 198.,\n",
       "        142., 135., 112.,  70.,  66.,  35.,  48.,  27.,  19.,  13.,   4.,\n",
       "          5.,   3.,   1.,   1.,   0.,   1.]),\n",
       " array([-3.40565395, -3.26492825, -3.12420254, -2.98347683, -2.84275112,\n",
       "        -2.70202541, -2.56129971, -2.420574  , -2.27984829, -2.13912258,\n",
       "        -1.99839687, -1.85767117, -1.71694546, -1.57621975, -1.43549404,\n",
       "        -1.29476833, -1.15404263, -1.01331692, -0.87259121, -0.7318655 ,\n",
       "        -0.59113979, -0.45041409, -0.30968838, -0.16896267, -0.02823696,\n",
       "         0.11248875,  0.25321445,  0.39394016,  0.53466587,  0.67539158,\n",
       "         0.81611729,  0.95684299,  1.0975687 ,  1.23829441,  1.37902012,\n",
       "         1.51974583,  1.66047153,  1.80119724,  1.94192295,  2.08264866,\n",
       "         2.22337437,  2.36410007,  2.50482578,  2.64555149,  2.7862772 ,\n",
       "         2.92700291,  3.06772861,  3.20845432,  3.34918003,  3.48990574,\n",
       "         3.63063145]),\n",
       " <BarContainer object of 50 artists>)"
      ]
     },
     "execution_count": 482,
     "metadata": {},
     "output_type": "execute_result"
    },
    {
     "data": {
      "image/png": "[encoded data removed]",
      "text/plain": [
       "<Figure size 432x288 with 1 Axes>"
      ]
     },
     "metadata": {
      "needs_background": "light"
     },
     "output_type": "display_data"
    }
   ],
   "source": [
    "plt.hist(hpreact.view(-1).tolist(), 50)"
   ]
  },
  {
   "cell_type": "code",
   "execution_count": 483,
   "id": "de734e2d",
   "metadata": {},
   "outputs": [
    {
     "data": {
      "text/plain": [
       "<matplotlib.image.AxesImage at 0x121c4eec0>"
      ]
     },
     "execution_count": 483,
     "metadata": {},
     "output_type": "execute_result"
    },
    {
     "data": {
      "image/png": "[encoded data removed]",
      "text/plain": [
       "<Figure size 1440x720 with 1 Axes>"
      ]
     },
     "metadata": {
      "needs_background": "light"
     },
     "output_type": "display_data"
    }
   ],
   "source": [
    "plt.figure(figsize=(20,10))\n",
    "plt.imshow(h.abs() > 0.99, cmap='gray', interpolation='nearest')\n",
    "#for any vertical white column, is a dead neuron, ie., no sample can activate that neuron.\n",
    "\n"
   ]
  },
  {
   "cell_type": "code",
   "execution_count": 49,
   "id": "188e629e",
   "metadata": {},
   "outputs": [
    {
     "data": {
      "text/plain": [
       "tensor(3.2958)"
      ]
     },
     "execution_count": 49,
     "metadata": {},
     "output_type": "execute_result"
    }
   ],
   "source": [
    "-torch.tensor(1/27.0).log()"
   ]
  },
  {
   "cell_type": "code",
   "execution_count": 490,
   "id": "f7f59703",
   "metadata": {},
   "outputs": [
    {
     "data": {
      "text/plain": [
       "tensor(0.4266, grad_fn=<SumBackward0>)"
      ]
     },
     "execution_count": 490,
     "metadata": {},
     "output_type": "execute_result"
    }
   ],
   "source": [
    "logits[0].sum()"
   ]
  },
  {
   "cell_type": "code",
   "execution_count": 38,
   "id": "8688765b",
   "metadata": {},
   "outputs": [
    {
     "data": {
      "text/plain": [
       "torch.Size([32, 200])"
      ]
     },
     "execution_count": 38,
     "metadata": {},
     "output_type": "execute_result"
    }
   ],
   "source": [
    "h.shape"
   ]
  },
  {
   "cell_type": "code",
   "execution_count": 607,
   "id": "91b40ecc",
   "metadata": {},
   "outputs": [
    {
     "name": "stdout",
     "output_type": "stream",
     "text": [
      "46497\n"
     ]
    }
   ],
   "source": [
    "#train a deeper network\n",
    "\n",
    "class Linear:\n",
    "    \n",
    "    def __init__(self, fan_in, fan_out, bias=True):\n",
    "        self.weight = torch.randn((fan_in, fan_out), generator=g) / fan_in**0.5\n",
    "        self.bias = torch.randn(fan_out) if bias else None\n",
    "        \n",
    "    def __call__(self, x):\n",
    "        self.out = x @ self.weight\n",
    "        if self.bias is not None:\n",
    "            self.out += self.bias\n",
    "        return self.out\n",
    "    \n",
    "    def parameters(self):\n",
    "        return [self.weight] + ([] if self.bias is None else [self.bias])\n",
    "\n",
    "class BatchNorm1d:\n",
    "    \n",
    "    def __init__(self, dim, eps=1e-5, momentum=0.1):\n",
    "        self.eps = eps\n",
    "        self.momentum = momentum\n",
    "        self.training = True\n",
    "        #parameters (trained with backprop)\n",
    "        self.gamma = torch.zeros(dim)\n",
    "        self.beta = torch.zeros(dim)\n",
    "        #buffers (training with a running 'momentum update')\n",
    "        self.running_mean = torch.zeros(dim)\n",
    "        self.running_var = torch.ones(dim)\n",
    "        \n",
    "    def __call__(self, x):\n",
    "        #calculate the forward pass\n",
    "        if self.training:\n",
    "            xmean = x.mean(0, keepdim=True) #batch mean\n",
    "            xvar = x.var(0, keepdim=True) #batch variance\n",
    "        else:\n",
    "            xmean = self.running_mean\n",
    "            xvar = self.running_var\n",
    "        xhat = (x - xmean) / torch.sqrt(xvar + self.eps) # normalize to unit variance\n",
    "        self.out = self.gamma * xhat + self.beta\n",
    "        # update the buffers\n",
    "        if self.training:\n",
    "            with torch.no_grid():\n",
    "                self.running_mean = (1 - self.momentum) * self.running_mean + self.momentum * xmeann\n",
    "                self.running_var = (1 - self.momentum) * self.running_var + self.momentum * xvar\n",
    "            return self.out\n",
    "        \n",
    "    def parameters(self):\n",
    "        return [self.gamma, self.beta]\n",
    "    \n",
    "class Tanh:\n",
    "    def __call__(self, x):\n",
    "        self.out = torch.tanh(x)\n",
    "        return self.out\n",
    "    def parameters(self):\n",
    "        return []\n",
    "    \n",
    "n_embd = 10 #the dim of the character embedding vectors\n",
    "n_hidden = 100 # the no. of neurons in the hidden layer fo MLP\n",
    "g = torch.Generator().manual_seed(2147483647) \n",
    "\n",
    "C = torch.randn((vocab_size, n_embd), generator=g)\n",
    "layers = [\n",
    "    Linear(n_embd * block_size, n_hidden), Tanh(),\n",
    "    Linear(           n_hidden, n_hidden), Tanh(),\n",
    "    Linear(           n_hidden, n_hidden), Tanh(),\n",
    "    Linear(           n_hidden, n_hidden), Tanh(),\n",
    "    Linear(           n_hidden, n_hidden), Tanh(),\n",
    "    Linear(           n_hidden, vocab_size),\n",
    "]\n",
    "\n",
    "with torch.no_grad():\n",
    "    #last layer: make less confident\n",
    "    layers[-1].weight *= 0.1\n",
    "    #all other layers: apply gain\n",
    "    for layer in layers[:-1]:\n",
    "        if isinstance(layer, Linear):\n",
    "            layer.weight *= 5/3\n",
    "            \n",
    "parameters = [C] + [p for layer in layers for p in layer.parameters()] #double comprehension\n",
    "print(sum(p.nelement() for p in parameters)) # no. of parameters in total\n",
    "for p in parameters:\n",
    "    p.requires_grad = True\n",
    "        \n",
    "            "
   ]
  },
  {
   "cell_type": "code",
   "execution_count": 608,
   "id": "ac162184",
   "metadata": {},
   "outputs": [
    {
     "name": "stdout",
     "output_type": "stream",
     "text": [
      "      0/ 200000: 3.2047\n"
     ]
    }
   ],
   "source": [
    "#same optimization as last time\n",
    "max_steps = 200000\n",
    "batch_size = 32\n",
    "lossi = []\n",
    "\n",
    "for i in range(max_steps):\n",
    "    \n",
    "    #minibatch construct\n",
    "    ix = torch.randint(0, Xtr.shape[0], (batch_size,), generator=g)\n",
    "    Xb, Yb = Xtr[ix], Ytr[ix] #batch X, Y\n",
    "    \n",
    "    #forward pass\n",
    "    emb = C[Xb] # embed the characters into vectors\n",
    "    x = emb.view(emb.shape[0], -1) # cancatente the vectors\n",
    "    for layer in layers: #sequential layer adding\n",
    "        x = layer(x)\n",
    "    loss = F.cross_entropy(x, Yb) #loss function\n",
    "    \n",
    "    #backward pass\n",
    "    for layer in layers:\n",
    "        layer.out.retain_grad() # AFTER_DEBUG: would take out retain_graph\n",
    "    for p in parameters:\n",
    "        p.grad = None\n",
    "    loss.backward()\n",
    "    \n",
    "    #update\n",
    "    lr = 0.1 if i < 100000 else 0.01 # step learning rate decay\n",
    "    for p in parameters:\n",
    "        p.data += -lr * p.grad\n",
    "        \n",
    "    # track stats\n",
    "    if i % 10000 == 0: # print every once in a while\n",
    "        print(f'{i:7d}/{max_steps:7d}: {loss.item():.4f}')\n",
    "    lossi.append(loss.log10().item())\n",
    "    \n",
    "    break # aFTER_DEBUG : would tak out obviously to run full optimizatio\n"
   ]
  },
  {
   "cell_type": "code",
   "execution_count": 609,
   "id": "8a134c4d",
   "metadata": {},
   "outputs": [
    {
     "name": "stdout",
     "output_type": "stream",
     "text": [
      "layer 1 (      Tanh): mean -0.04, std 0.79, saturated: 27.19%\n",
      "layer 3 (      Tanh): mean -0.00, std 0.76, saturated: 21.09%\n",
      "layer 5 (      Tanh): mean -0.06, std 0.74, saturated: 18.69%\n",
      "layer 7 (      Tanh): mean +0.05, std 0.74, saturated: 18.53%\n",
      "layer 9 (      Tanh): mean -0.02, std 0.74, saturated: 16.53%\n"
     ]
    },
    {
     "data": {
      "text/plain": [
       "Text(0.5, 1.0, 'activation distribution')"
      ]
     },
     "execution_count": 609,
     "metadata": {},
     "output_type": "execute_result"
    },
    {
     "data": {
      "image/png": "[encoded data removed]",
      "text/plain": [
       "<Figure size 1440x288 with 1 Axes>"
      ]
     },
     "metadata": {
      "needs_background": "light"
     },
     "output_type": "display_data"
    }
   ],
   "source": [
    "#visualize histograms\n",
    "plt.figure(figsize=(20,4)) # width and height of the plot\n",
    "legends= []\n",
    "for i, layer in enumerate(layers[:-1]): # note: exclude the output layer\n",
    "    if isinstance(layer, Tanh):\n",
    "        t = layer.out\n",
    "        print('layer %d (%10s): mean %+.2f, std %.2f, saturated: %.2f%%' % (i, layer.__class__.__name__, t.mean(), t.std(), (t.abs() > 0.97).float().mean()*100))\n",
    "        hy, hx = torch.histogram(t, density=True)\n",
    "        plt.plot(hx[:-1].detach(), hy.detach())\n",
    "        legends.append(f'layer {i} ({layer.__class__.__name__}')\n",
    "plt.legend(legends);\n",
    "plt.title('activation distribution')\n",
    "\n"
   ]
  },
  {
   "cell_type": "code",
   "execution_count": 610,
   "id": "d079af5f",
   "metadata": {},
   "outputs": [
    {
     "name": "stdout",
     "output_type": "stream",
     "text": [
      "layer 0 (    Linear): mean -0.000000, std 1.273627e-04\n",
      "layer 2 (    Linear): mean +0.000004, std 1.534877e-04\n",
      "layer 4 (    Linear): mean +0.000005, std 1.613325e-04\n",
      "layer 6 (    Linear): mean +0.000007, std 1.677475e-04\n",
      "layer 8 (    Linear): mean +0.000007, std 1.730815e-04\n"
     ]
    },
    {
     "data": {
      "text/plain": [
       "Text(0.5, 1.0, 'gradient distribution')"
      ]
     },
     "execution_count": 610,
     "metadata": {},
     "output_type": "execute_result"
    },
    {
     "data": {
      "image/png": "[encoded data removed]",
      "text/plain": [
       "<Figure size 1440x288 with 1 Axes>"
      ]
     },
     "metadata": {
      "needs_background": "light"
     },
     "output_type": "display_data"
    }
   ],
   "source": [
    "#visualize histograms\n",
    "plt.figure(figsize=(20, 4)) # width and height \n",
    "legends = []\n",
    "for i, layer in enumerate(layers[:-1]): # note: exclude the output layer\n",
    "    if isinstance(layer, Linear):\n",
    "        t = layer.out.grad\n",
    "        print('layer %d (%10s): mean %+f, std %e' % (i, layer.__class__.__name__, t.mean(), t.std()))\n",
    "        hy, hx = torch.histogram(t, density=True)\n",
    "        plt.plot(hx[:-1].detach(), hy.detach())\n",
    "        legends.append(f'layer {i} ({layer.__class__.__name__}')\n",
    "plt.legend(legends);\n",
    "plt.title('gradient distribution')"
   ]
  },
  {
   "cell_type": "code",
   "execution_count": 611,
   "id": "f249e568",
   "metadata": {},
   "outputs": [
    {
     "name": "stdout",
     "output_type": "stream",
     "text": [
      "weight   (27, 10) | mean -0.000009 | std 7.197317e-04 | grad:data ratio 7.192140e-04\n",
      "weight  (30, 100) | mean -0.000012 | std 6.807675e-04 | grad:data ratio 2.182910e-03\n",
      "weight (100, 100) | mean -0.000008 | std 7.059571e-04 | grad:data ratio 4.249688e-03\n",
      "weight (100, 100) | mean -0.000003 | std 8.284127e-04 | grad:data ratio 4.934432e-03\n",
      "weight (100, 100) | mean -0.000019 | std 8.660408e-04 | grad:data ratio 5.180232e-03\n",
      "weight (100, 100) | mean +0.000015 | std 9.259940e-04 | grad:data ratio 5.533481e-03\n",
      "weight  (100, 27) | mean -0.000000 | std 3.357692e-02 | grad:data ratio 3.221260e+00\n"
     ]
    },
    {
     "data": {
      "image/png": "[encoded data removed]",
      "text/plain": [
       "<Figure size 1440x288 with 1 Axes>"
      ]
     },
     "metadata": {
      "needs_background": "light"
     },
     "output_type": "display_data"
    }
   ],
   "source": [
    "#visualize histograms\n",
    "plt.figure(figsize=(20, 4)) # width and height of the plot\n",
    "legens = []\n",
    "for i, p in enumerate(parameters):\n",
    "    t = p.grad\n",
    "    if p.ndim == 2:\n",
    "        print('weight %10s | mean %+f | std %e | grad:data ratio %e' % (tuple(p.shape), t.mean(), t.std(), t.std() / p.std()))\n",
    "        hy, hx = torch.histogram(t, density=True)\n",
    "        plt.plot(hx[:-1].detach(), hy.detach())\n",
    "        legends.append(f'{i} {tuple(p.shape)}')\n",
    "plt.legend(legends)\n",
    "plt.title('weights gradient distribution');"
   ]
  },
  {
   "cell_type": "code",
   "execution_count": null,
   "id": "731a5fd1",
   "metadata": {},
   "outputs": [],
   "source": []
  }
 ],
 "metadata": {
  "kernelspec": {
   "display_name": "Python 3 (ipykernel)",
   "language": "python",
   "name": "python3"
  },
  "language_info": {
   "codemirror_mode": {
    "name": "ipython",
    "version": 3
   },
   "file_extension": ".py",
   "mimetype": "text/x-python",
   "name": "python",
   "nbconvert_exporter": "python",
   "pygments_lexer": "ipython3",
   "version": "3.10.1"
  }
 },
 "nbformat": 4,
 "nbformat_minor": 5
}
